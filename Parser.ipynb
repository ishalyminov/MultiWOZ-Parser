{
 "cells": [
  {
   "cell_type": "code",
   "execution_count": 1,
   "metadata": {
    "collapsed": true
   },
   "outputs": [],
   "source": [
    "import sys\n",
    "import os\n",
    "import json"
   ]
  },
  {
   "cell_type": "code",
   "execution_count": 2,
   "metadata": {
    "collapsed": true
   },
   "outputs": [],
   "source": [
    "def load_json(data_file):\n",
    "    if os.path.isfile(data_file):\n",
    "        with open(data_file, 'r') as read_file:\n",
    "            data = json.load(read_file)\n",
    "            return data\n",
    "\n",
    "def load_list_file(list_file):\n",
    "    with open(list_file, 'r') as read_file:\n",
    "        dialog_id_list = read_file.readlines()\n",
    "        dialog_id_list = [l.strip('\\n') for l in dialog_id_list]\n",
    "        return dialog_id_list\n",
    "    return"
   ]
  },
  {
   "cell_type": "code",
   "execution_count": 3,
   "metadata": {},
   "outputs": [
    {
     "name": "stdout",
     "output_type": "stream",
     "text": [
      "# of dialogs: 9855\n"
     ]
    }
   ],
   "source": [
    "dialog_data_file = './MultiWOZ/data.json'\n",
    "dialog_data = load_json(dialog_data_file)\n",
    "dialog_id_list = list(set(dialog_data.keys())) # Bug: v1.0 contains duplicate id in the valid data\n",
    "print('# of dialogs:', len(dialog_data))\n",
    "# print(dialog_data['PMUL4641.json']) # print a sample dialog"
   ]
  },
  {
   "cell_type": "code",
   "execution_count": 4,
   "metadata": {},
   "outputs": [
    {
     "name": "stdout",
     "output_type": "stream",
     "text": [
      "# of train dialogs: 7953\n",
      "# of valid dialogs: 902\n",
      "# of test dialogs : 1000\n"
     ]
    }
   ],
   "source": [
    "valid_list_file = './MultiWOZ/valListFile.json'\n",
    "test_list_file = './MultiWOZ/testListFile.json'\n",
    "\n",
    "valid_id_list = list(set(load_list_file(valid_list_file))) # Bug: v1.0 contains duplicate id in the valid data\n",
    "test_id_list = load_list_file(test_list_file)\n",
    "train_id_list = [did for did in dialog_id_list if did not in (valid_id_list + test_id_list)]\n",
    "print('# of train dialogs:', len(train_id_list))\n",
    "print('# of valid dialogs:', len(valid_id_list))\n",
    "print('# of test dialogs :', len(test_id_list))\n",
    "assert(len(dialog_id_list) == len(train_id_list) + len(valid_id_list) + len(test_id_list))"
   ]
  },
  {
   "cell_type": "code",
   "execution_count": 5,
   "metadata": {
    "collapsed": true
   },
   "outputs": [],
   "source": [
    "train_data = [v for k, v in dialog_data.items() if k in train_id_list]\n",
    "valid_data = [v for k, v in dialog_data.items() if k in valid_id_list]\n",
    "test_data = [v for k, v in dialog_data.items() if k in test_id_list]\n",
    "assert(len(train_data) == len(train_id_list))\n",
    "assert(len(valid_data) == len(valid_id_list))\n",
    "assert(len(test_data) == len(test_id_list))"
   ]
  },
  {
   "cell_type": "code",
   "execution_count": 6,
   "metadata": {},
   "outputs": [
    {
     "data": {
      "text/plain": [
       "{'goal': {'attraction': {},\n",
       "  'eod': True,\n",
       "  'hospital': {},\n",
       "  'hotel': {'book': {'day': 'tuesday',\n",
       "    'invalid': False,\n",
       "    'people': '6',\n",
       "    'pre_invalid': True,\n",
       "    'stay': '2'},\n",
       "   'fail_book': {'stay': '3'},\n",
       "   'fail_info': {},\n",
       "   'info': {'internet': 'yes',\n",
       "    'parking': 'yes',\n",
       "    'pricerange': 'cheap',\n",
       "    'type': 'hotel'}},\n",
       "  'message': [\"You are looking for a <span class='emphasis'>place to stay</span>. The hotel should be in the <span class='emphasis'>cheap</span> price range and should be in the type of <span class='emphasis'>hotel</span>\",\n",
       "   \"The hotel should <span class='emphasis'>include free parking</span> and should <span class='emphasis'>include free wifi</span>\",\n",
       "   \"Once you find the <span class='emphasis'>hotel</span> you want to book it for <span class='emphasis'>6 people</span> and <span class='emphasis'>3 nights</span> starting from <span class='emphasis'>tuesday</span>\",\n",
       "   \"If the booking fails how about <span class='emphasis'>2 nights</span>\",\n",
       "   \"Make sure you get the <span class='emphasis'>reference number</span>\"],\n",
       "  'messageLen': 6,\n",
       "  'police': {},\n",
       "  'restaurant': {},\n",
       "  'taxi': {},\n",
       "  'topic': {'attraction': False,\n",
       "   'booking': False,\n",
       "   'general': False,\n",
       "   'hospital': False,\n",
       "   'hotel': False,\n",
       "   'police': False,\n",
       "   'restaurant': False,\n",
       "   'taxi': False,\n",
       "   'train': False},\n",
       "  'train': {}},\n",
       " 'log': [{'metadata': {},\n",
       "   'text': 'am looking for a place to to stay that has cheap price range it should be in a type of hotel'},\n",
       "  {'metadata': {'attraction': {'book': {'booked': []},\n",
       "     'semi': {'area': '', 'name': '', 'type': ''}},\n",
       "    'hospital': {'book': {'booked': []}, 'semi': {'department': ''}},\n",
       "    'hotel': {'book': {'booked': [], 'day': '', 'people': '', 'stay': ''},\n",
       "     'semi': {'area': 'not mentioned',\n",
       "      'internet': 'not mentioned',\n",
       "      'name': 'not mentioned',\n",
       "      'parking': 'not mentioned',\n",
       "      'pricerange': 'cheap',\n",
       "      'stars': 'not mentioned',\n",
       "      'type': 'hotel'}},\n",
       "    'police': {'book': {'booked': []}, 'semi': {}},\n",
       "    'restaurant': {'book': {'booked': [], 'day': '', 'people': '', 'time': ''},\n",
       "     'semi': {'area': '', 'food': '', 'name': '', 'pricerange': ''}},\n",
       "    'taxi': {'book': {'booked': []},\n",
       "     'semi': {'arriveBy': '',\n",
       "      'departure': '',\n",
       "      'destination': '',\n",
       "      'leaveAt': ''}},\n",
       "    'train': {'book': {'booked': [], 'people': ''},\n",
       "     'semi': {'arriveBy': '',\n",
       "      'day': '',\n",
       "      'departure': '',\n",
       "      'destination': '',\n",
       "      'leaveAt': ''}}},\n",
       "   'text': 'Okay, do you have a specific area you want to stay in?'},\n",
       "  {'metadata': {},\n",
       "   'text': \"no, i just need to make sure it's cheap. oh, and i need parking\"},\n",
       "  {'metadata': {'attraction': {'book': {'booked': []},\n",
       "     'semi': {'area': '', 'name': '', 'type': ''}},\n",
       "    'hospital': {'book': {'booked': []}, 'semi': {'department': ''}},\n",
       "    'hotel': {'book': {'booked': [], 'day': '', 'people': '', 'stay': ''},\n",
       "     'semi': {'area': 'not mentioned',\n",
       "      'internet': 'not mentioned',\n",
       "      'name': 'not mentioned',\n",
       "      'parking': 'yes',\n",
       "      'pricerange': 'cheap',\n",
       "      'stars': 'not mentioned',\n",
       "      'type': 'hotel'}},\n",
       "    'police': {'book': {'booked': []}, 'semi': {}},\n",
       "    'restaurant': {'book': {'booked': [], 'day': '', 'people': '', 'time': ''},\n",
       "     'semi': {'area': '', 'food': '', 'name': '', 'pricerange': ''}},\n",
       "    'taxi': {'book': {'booked': []},\n",
       "     'semi': {'arriveBy': '',\n",
       "      'departure': '',\n",
       "      'destination': '',\n",
       "      'leaveAt': ''}},\n",
       "    'train': {'book': {'booked': [], 'people': ''},\n",
       "     'semi': {'arriveBy': '',\n",
       "      'day': '',\n",
       "      'departure': '',\n",
       "      'destination': '',\n",
       "      'leaveAt': ''}}},\n",
       "   'text': 'I found 1 cheap hotel for you that includes parking. Do you like me to book it?'},\n",
       "  {'metadata': {},\n",
       "   'text': 'Yes, please. 6 people 3 nights starting on tuesday.'},\n",
       "  {'metadata': {'attraction': {'book': {'booked': []},\n",
       "     'semi': {'area': '', 'name': '', 'type': ''}},\n",
       "    'hospital': {'book': {'booked': []}, 'semi': {'department': ''}},\n",
       "    'hotel': {'book': {'booked': [],\n",
       "      'day': 'tuesday',\n",
       "      'people': '6',\n",
       "      'stay': '3'},\n",
       "     'semi': {'area': 'not mentioned',\n",
       "      'internet': 'not mentioned',\n",
       "      'name': 'not mentioned',\n",
       "      'parking': 'yes',\n",
       "      'pricerange': 'cheap',\n",
       "      'stars': 'not mentioned',\n",
       "      'type': 'hotel'}},\n",
       "    'police': {'book': {'booked': []}, 'semi': {}},\n",
       "    'restaurant': {'book': {'booked': [], 'day': '', 'people': '', 'time': ''},\n",
       "     'semi': {'area': '', 'food': '', 'name': '', 'pricerange': ''}},\n",
       "    'taxi': {'book': {'booked': []},\n",
       "     'semi': {'arriveBy': '',\n",
       "      'departure': '',\n",
       "      'destination': '',\n",
       "      'leaveAt': ''}},\n",
       "    'train': {'book': {'booked': [], 'people': ''},\n",
       "     'semi': {'arriveBy': '',\n",
       "      'day': '',\n",
       "      'departure': '',\n",
       "      'destination': '',\n",
       "      'leaveAt': ''}}},\n",
       "   'text': \"I am sorry but I wasn't able to book that for you for Tuesday. Is there another day you would like to stay or perhaps a shorter stay?\"},\n",
       "  {'metadata': {}, 'text': 'how about only 2 nights.'},\n",
       "  {'metadata': {'attraction': {'book': {'booked': []},\n",
       "     'semi': {'area': '', 'name': '', 'type': ''}},\n",
       "    'hospital': {'book': {'booked': []}, 'semi': {'department': ''}},\n",
       "    'hotel': {'book': {'booked': [{'name': 'the cambridge belfry',\n",
       "        'reference': '7GAWK763'}],\n",
       "      'day': 'tuesday',\n",
       "      'people': '6',\n",
       "      'stay': '2'},\n",
       "     'semi': {'area': 'not mentioned',\n",
       "      'internet': 'not mentioned',\n",
       "      'name': 'not mentioned',\n",
       "      'parking': 'yes',\n",
       "      'pricerange': 'cheap',\n",
       "      'stars': 'not mentioned',\n",
       "      'type': 'hotel'}},\n",
       "    'police': {'book': {'booked': []}, 'semi': {}},\n",
       "    'restaurant': {'book': {'booked': [], 'day': '', 'people': '', 'time': ''},\n",
       "     'semi': {'area': '', 'food': '', 'name': '', 'pricerange': ''}},\n",
       "    'taxi': {'book': {'booked': []},\n",
       "     'semi': {'arriveBy': '',\n",
       "      'departure': '',\n",
       "      'destination': '',\n",
       "      'leaveAt': ''}},\n",
       "    'train': {'book': {'booked': [], 'people': ''},\n",
       "     'semi': {'arriveBy': '',\n",
       "      'day': '',\n",
       "      'departure': '',\n",
       "      'destination': '',\n",
       "      'leaveAt': ''}}},\n",
       "   'text': 'Booking was successful.\\nReference number is : 7GAWK763. Anything else I can do for you?'},\n",
       "  {'metadata': {}, 'text': 'No, that will be all. Good bye.'},\n",
       "  {'metadata': {'attraction': {'book': {'booked': []},\n",
       "     'semi': {'area': '', 'name': '', 'type': ''}},\n",
       "    'hospital': {'book': {'booked': []}, 'semi': {'department': ''}},\n",
       "    'hotel': {'book': {'booked': [{'name': 'the cambridge belfry',\n",
       "        'reference': '7GAWK763'}],\n",
       "      'day': 'tuesday',\n",
       "      'people': '6',\n",
       "      'stay': '2'},\n",
       "     'semi': {'area': 'not mentioned',\n",
       "      'internet': 'not mentioned',\n",
       "      'name': 'not mentioned',\n",
       "      'parking': 'yes',\n",
       "      'pricerange': 'cheap',\n",
       "      'stars': 'not mentioned',\n",
       "      'type': 'hotel'}},\n",
       "    'police': {'book': {'booked': []}, 'semi': {}},\n",
       "    'restaurant': {'book': {'booked': [], 'day': '', 'people': '', 'time': ''},\n",
       "     'semi': {'area': '', 'food': '', 'name': '', 'pricerange': ''}},\n",
       "    'taxi': {'book': {'booked': []},\n",
       "     'semi': {'arriveBy': '',\n",
       "      'departure': '',\n",
       "      'destination': '',\n",
       "      'leaveAt': ''}},\n",
       "    'train': {'book': {'booked': [], 'people': ''},\n",
       "     'semi': {'arriveBy': '',\n",
       "      'day': '',\n",
       "      'departure': '',\n",
       "      'destination': '',\n",
       "      'leaveAt': ''}}},\n",
       "   'text': 'Thank you for using our services.'}]}"
      ]
     },
     "execution_count": 6,
     "metadata": {},
     "output_type": "execute_result"
    }
   ],
   "source": [
    "train_data[0]"
   ]
  },
  {
   "cell_type": "markdown",
   "metadata": {},
   "source": [
    "## DB"
   ]
  },
  {
   "cell_type": "code",
   "execution_count": 10,
   "metadata": {},
   "outputs": [
    {
     "name": "stdout",
     "output_type": "stream",
     "text": [
      "{'address': '124 tenison road', 'area': 'east', 'internet': 'yes', 'parking': 'no', 'id': '0', 'location': [52.1963733, 0.1987426], 'name': 'a and b guest house', 'phone': '01223315702', 'postcode': 'cb12dp', 'price': {'double': '70', 'family': '90', 'single': '50'}, 'pricerange': 'moderate', 'stars': '4', 'takesbookings': 'yes', 'type': 'guesthouse'}\n"
     ]
    }
   ],
   "source": [
    "hotel_db_list = load_json('./MultiWOZ/hotel_db.json')\n",
    "train_db_list = load_json('./MultiWOZ/train_db.json')\n",
    "attractin_db_list = load_json('./MultiWOZ/attraction_db.json')\n",
    "restaurant_db_list = load_json('./MultiWOZ/restaurant_db.json')\n",
    "print(hotel_db_list[0]) # print a sample entity"
   ]
  },
  {
   "cell_type": "code",
   "execution_count": null,
   "metadata": {
    "collapsed": true
   },
   "outputs": [],
   "source": []
  }
 ],
 "metadata": {
  "kernelspec": {
   "display_name": "Python 3",
   "language": "python",
   "name": "python3"
  },
  "language_info": {
   "codemirror_mode": {
    "name": "ipython",
    "version": 3
   },
   "file_extension": ".py",
   "mimetype": "text/x-python",
   "name": "python",
   "nbconvert_exporter": "python",
   "pygments_lexer": "ipython3",
   "version": "3.6.3"
  }
 },
 "nbformat": 4,
 "nbformat_minor": 2
}
